{
 "cells": [
  {
   "cell_type": "markdown",
   "metadata": {},
   "source": [
    "# Your first embedding"
   ]
  },
  {
   "cell_type": "markdown",
   "metadata": {},
   "source": [
    "## Exercise objectives:"
   ]
  },
  {
   "cell_type": "markdown",
   "metadata": {},
   "source": [
    "- Run your first RNN for NLP\n",
    "- Get a first taste of what an embedding is\n",
    "\n",
    "<hr>\n",
    "\n",
    "Words are not something you can easily feed to a Neural Network. For this reason, we have to convert them to something more meaningful. \n",
    "\n",
    "And this is exactly what _Embeddings_ are for! They map any word onto a vectorial representation (this a fancy way to represent each word with a vector ;) ). For instance, the word `dog` can be represented by the vector $(w_1, w_2, ..., w_n)$ in the embedding space, and we will learn the weights $(w_k)_k$.\n",
    "\n",
    "So let's just do it."
   ]
  },
  {
   "cell_type": "markdown",
   "metadata": {},
   "source": [
    "# The data"
   ]
  },
  {
   "cell_type": "markdown",
   "metadata": {},
   "source": [
    "❓ **Question** ❓ Let's first load the data. You don't have to understand what is going on in the function, it does not matter here.\n",
    "\n",
    "⚠️ **Warning** ⚠️ The `load_data` function has a `percentage_of_sentences` argument. Depending on your computer, there are chances that too many sentences will make your compute slow down, or even freeze - your RAM can overflow. For that reason, **you should start with 10% of the sentences** and see if your computer handles it. Otherwise, rerun with a lower number. \n",
    "\n",
    "⚠️ **DISCLAIMER** ⚠️ **No need to play _who has the biggest_ (RAM) !** The idea is to get to run your models quickly to prototype. Even in real life, it is recommended that you start with a subset of your data to loop and debug quickly. So increase the number only if you are into getting the best accuracy. "
   ]
  },
  {
   "cell_type": "code",
   "execution_count": 1,
   "metadata": {},
   "outputs": [
    {
     "name": "stderr",
     "output_type": "stream",
     "text": [
      "2023-11-16 10:58:40.136736: I tensorflow/core/platform/cpu_feature_guard.cc:182] This TensorFlow binary is optimized to use available CPU instructions in performance-critical operations.\n",
      "To enable the following instructions: AVX2 FMA, in other operations, rebuild TensorFlow with the appropriate compiler flags.\n",
      "/Users/tanushrinayak/.pyenv/versions/3.10.6/envs/lewagon/lib/python3.10/site-packages/scipy/__init__.py:146: UserWarning: A NumPy version >=1.17.3 and <1.25.0 is required for this version of SciPy (detected version 1.26.2\n",
      "  warnings.warn(f\"A NumPy version >={np_minversion} and <{np_maxversion}\"\n",
      "2023-11-16 10:58:44.394356: W tensorflow/tsl/platform/cloud/google_auth_provider.cc:184] All attempts to get a Google authentication bearer token failed, returning an empty token. Retrieving token from files failed with \"NOT_FOUND: Could not locate the credentials file.\". Retrieving token from GCE failed with \"FAILED_PRECONDITION: Error executing an HTTP request: libcurl code 6 meaning 'Couldn't resolve host name', error details: Could not resolve host: metadata.google.internal\".\n"
     ]
    },
    {
     "name": "stdout",
     "output_type": "stream",
     "text": [
      "\u001b[1mDownloading and preparing dataset 80.23 MiB (download: 80.23 MiB, generated: Unknown size, total: 80.23 MiB) to ~/tensorflow_datasets/imdb_reviews/plain_text/1.0.0...\u001b[0m\n"
     ]
    },
    {
     "data": {
      "application/vnd.jupyter.widget-view+json": {
       "model_id": "d94d5fb395e4463ab8b1ba6ec988cae6",
       "version_major": 2,
       "version_minor": 0
      },
      "text/plain": [
       "Dl Completed...: 0 url [00:00, ? url/s]"
      ]
     },
     "metadata": {},
     "output_type": "display_data"
    },
    {
     "data": {
      "application/vnd.jupyter.widget-view+json": {
       "model_id": "de6246a4b8094493813649ae0983fd17",
       "version_major": 2,
       "version_minor": 0
      },
      "text/plain": [
       "Dl Size...: 0 MiB [00:00, ? MiB/s]"
      ]
     },
     "metadata": {},
     "output_type": "display_data"
    },
    {
     "data": {
      "application/vnd.jupyter.widget-view+json": {
       "model_id": "d5f2d62c761f4aaea5483b5c584942b7",
       "version_major": 2,
       "version_minor": 0
      },
      "text/plain": [
       "Generating splits...:   0%|          | 0/3 [00:00<?, ? splits/s]"
      ]
     },
     "metadata": {},
     "output_type": "display_data"
    },
    {
     "data": {
      "application/vnd.jupyter.widget-view+json": {
       "model_id": "2bb25c27afc34e0e9438a644cb58a87a",
       "version_major": 2,
       "version_minor": 0
      },
      "text/plain": [
       "Generating train examples...:   0%|          | 0/25000 [00:00<?, ? examples/s]"
      ]
     },
     "metadata": {},
     "output_type": "display_data"
    },
    {
     "data": {
      "application/vnd.jupyter.widget-view+json": {
       "model_id": "1a5d23520b75474ead6f02beb0e47a7f",
       "version_major": 2,
       "version_minor": 0
      },
      "text/plain": [
       "Shuffling ~/tensorflow_datasets/imdb_reviews/plain_text/1.0.0.incompleteHIF67Q/imdb_reviews-train.tfrecord*...…"
      ]
     },
     "metadata": {},
     "output_type": "display_data"
    },
    {
     "data": {
      "application/vnd.jupyter.widget-view+json": {
       "model_id": "8d81fdb71b8c4834a2e726f38997ef1e",
       "version_major": 2,
       "version_minor": 0
      },
      "text/plain": [
       "Generating test examples...:   0%|          | 0/25000 [00:00<?, ? examples/s]"
      ]
     },
     "metadata": {},
     "output_type": "display_data"
    },
    {
     "data": {
      "application/vnd.jupyter.widget-view+json": {
       "model_id": "fda6331635744ef9910fbcf1439ebdd0",
       "version_major": 2,
       "version_minor": 0
      },
      "text/plain": [
       "Shuffling ~/tensorflow_datasets/imdb_reviews/plain_text/1.0.0.incompleteHIF67Q/imdb_reviews-test.tfrecord*...:…"
      ]
     },
     "metadata": {},
     "output_type": "display_data"
    },
    {
     "data": {
      "application/vnd.jupyter.widget-view+json": {
       "model_id": "75c872efc5474c009128a2efda291fb4",
       "version_major": 2,
       "version_minor": 0
      },
      "text/plain": [
       "Generating unsupervised examples...:   0%|          | 0/50000 [00:00<?, ? examples/s]"
      ]
     },
     "metadata": {},
     "output_type": "display_data"
    },
    {
     "data": {
      "application/vnd.jupyter.widget-view+json": {
       "model_id": "9394f391c635450f9cf17dc42226e5b3",
       "version_major": 2,
       "version_minor": 0
      },
      "text/plain": [
       "Shuffling ~/tensorflow_datasets/imdb_reviews/plain_text/1.0.0.incompleteHIF67Q/imdb_reviews-unsupervised.tfrec…"
      ]
     },
     "metadata": {},
     "output_type": "display_data"
    },
    {
     "name": "stdout",
     "output_type": "stream",
     "text": [
      "\u001b[1mDataset imdb_reviews downloaded and prepared to ~/tensorflow_datasets/imdb_reviews/plain_text/1.0.0. Subsequent calls will reuse this data.\u001b[0m\n"
     ]
    }
   ],
   "source": [
    "###########################################\n",
    "### Just run this cell to load the data ###\n",
    "###########################################\n",
    "\n",
    "import tensorflow_datasets as tfds\n",
    "from tensorflow.keras.preprocessing.text import text_to_word_sequence\n",
    "\n",
    "def load_data(percentage_of_sentences=None):\n",
    "    train_data, test_data = tfds.load(name=\"imdb_reviews\", split=[\"train\", \"test\"], batch_size=-1, as_supervised=True)\n",
    "\n",
    "    train_sentences, y_train = tfds.as_numpy(train_data)\n",
    "    test_sentences, y_test = tfds.as_numpy(test_data)\n",
    "\n",
    "    # Take only a given percentage of the entire data\n",
    "    if percentage_of_sentences is not None:\n",
    "        assert(percentage_of_sentences> 0 and percentage_of_sentences<=100)\n",
    "\n",
    "        len_train = int(percentage_of_sentences/100*len(train_sentences))\n",
    "        train_sentences, y_train = train_sentences[:len_train], y_train[:len_train]\n",
    "\n",
    "        len_test = int(percentage_of_sentences/100*len(test_sentences))\n",
    "        test_sentences, y_test = test_sentences[:len_test], y_test[:len_test]\n",
    "\n",
    "    X_train = [text_to_word_sequence(_.decode(\"utf-8\")) for _ in train_sentences]\n",
    "    X_test = [text_to_word_sequence(_.decode(\"utf-8\")) for _ in test_sentences]\n",
    "\n",
    "    return X_train, y_train, X_test, y_test\n",
    "\n",
    "X_train, y_train, X_test, y_test = load_data(percentage_of_sentences=10)\n"
   ]
  },
  {
   "cell_type": "markdown",
   "metadata": {},
   "source": [
    "Now that you have loaded the data, let's check it out!\n",
    "\n",
    "❓ **Question** ❓ You can play with the data here. In particular, `X_train` and `X_test` are lists of sentences. Let's print some of them, with their respective label stored in `y_train` and `y_test`."
   ]
  },
  {
   "cell_type": "code",
   "execution_count": 3,
   "metadata": {
    "tags": [
     "challengify"
    ]
   },
   "outputs": [
    {
     "name": "stdout",
     "output_type": "stream",
     "text": [
      "['this', 'was', 'an', 'absolutely', 'terrible', 'movie', \"don't\", 'be', 'lured', 'in', 'by', 'christopher', 'walken', 'or', 'michael', 'ironside', 'both', 'are', 'great', 'actors', 'but', 'this', 'must', 'simply', 'be', 'their', 'worst', 'role', 'in', 'history', 'even', 'their', 'great', 'acting', 'could', 'not', 'redeem', 'this', \"movie's\", 'ridiculous', 'storyline', 'this', 'movie', 'is', 'an', 'early', 'nineties', 'us', 'propaganda', 'piece', 'the', 'most', 'pathetic', 'scenes', 'were', 'those', 'when', 'the', 'columbian', 'rebels', 'were', 'making', 'their', 'cases', 'for', 'revolutions', 'maria', 'conchita', 'alonso', 'appeared', 'phony', 'and', 'her', 'pseudo', 'love', 'affair', 'with', 'walken', 'was', 'nothing', 'but', 'a', 'pathetic', 'emotional', 'plug', 'in', 'a', 'movie', 'that', 'was', 'devoid', 'of', 'any', 'real', 'meaning', 'i', 'am', 'disappointed', 'that', 'there', 'are', 'movies', 'like', 'this', 'ruining', \"actor's\", 'like', 'christopher', \"walken's\", 'good', 'name', 'i', 'could', 'barely', 'sit', 'through', 'it']\n",
      "0\n",
      "\n",
      "['i', 'have', 'been', 'known', 'to', 'fall', 'asleep', 'during', 'films', 'but', 'this', 'is', 'usually', 'due', 'to', 'a', 'combination', 'of', 'things', 'including', 'really', 'tired', 'being', 'warm', 'and', 'comfortable', 'on', 'the', 'sette', 'and', 'having', 'just', 'eaten', 'a', 'lot', 'however', 'on', 'this', 'occasion', 'i', 'fell', 'asleep', 'because', 'the', 'film', 'was', 'rubbish', 'the', 'plot', 'development', 'was', 'constant', 'constantly', 'slow', 'and', 'boring', 'things', 'seemed', 'to', 'happen', 'but', 'with', 'no', 'explanation', 'of', 'what', 'was', 'causing', 'them', 'or', 'why', 'i', 'admit', 'i', 'may', 'have', 'missed', 'part', 'of', 'the', 'film', 'but', 'i', 'watched', 'the', 'majority', 'of', 'it', 'and', 'everything', 'just', 'seemed', 'to', 'happen', 'of', 'its', 'own', 'accord', 'without', 'any', 'real', 'concern', 'for', 'anything', 'else', 'i', 'cant', 'recommend', 'this', 'film', 'at', 'all']\n",
      "0\n",
      "\n",
      "['mann', 'photographs', 'the', 'alberta', 'rocky', 'mountains', 'in', 'a', 'superb', 'fashion', 'and', 'jimmy', 'stewart', 'and', 'walter', 'brennan', 'give', 'enjoyable', 'performances', 'as', 'they', 'always', 'seem', 'to', 'do', 'br', 'br', 'but', 'come', 'on', 'hollywood', 'a', 'mountie', 'telling', 'the', 'people', 'of', 'dawson', 'city', 'yukon', 'to', 'elect', 'themselves', 'a', 'marshal', 'yes', 'a', 'marshal', 'and', 'to', 'enforce', 'the', 'law', 'themselves', 'then', 'gunfighters', 'battling', 'it', 'out', 'on', 'the', 'streets', 'for', 'control', 'of', 'the', 'town', 'br', 'br', 'nothing', 'even', 'remotely', 'resembling', 'that', 'happened', 'on', 'the', 'canadian', 'side', 'of', 'the', 'border', 'during', 'the', 'klondike', 'gold', 'rush', 'mr', 'mann', 'and', 'company', 'appear', 'to', 'have', 'mistaken', 'dawson', 'city', 'for', 'deadwood', 'the', 'canadian', 'north', 'for', 'the', 'american', 'wild', 'west', 'br', 'br', 'canadian', 'viewers', 'be', 'prepared', 'for', 'a', 'reefer', 'madness', 'type', 'of', 'enjoyable', 'howl', 'with', 'this', 'ludicrous', 'plot', 'or', 'to', 'shake', 'your', 'head', 'in', 'disgust']\n",
      "0\n",
      "\n",
      "['this', 'is', 'the', 'kind', 'of', 'film', 'for', 'a', 'snowy', 'sunday', 'afternoon', 'when', 'the', 'rest', 'of', 'the', 'world', 'can', 'go', 'ahead', 'with', 'its', 'own', 'business', 'as', 'you', 'descend', 'into', 'a', 'big', 'arm', 'chair', 'and', 'mellow', 'for', 'a', 'couple', 'of', 'hours', 'wonderful', 'performances', 'from', 'cher', 'and', 'nicolas', 'cage', 'as', 'always', 'gently', 'row', 'the', 'plot', 'along', 'there', 'are', 'no', 'rapids', 'to', 'cross', 'no', 'dangerous', 'waters', 'just', 'a', 'warm', 'and', 'witty', 'paddle', 'through', 'new', 'york', 'life', 'at', 'its', 'best', 'a', 'family', 'film', 'in', 'every', 'sense', 'and', 'one', 'that', 'deserves', 'the', 'praise', 'it', 'received']\n",
      "1\n",
      "\n",
      "['as', 'others', 'have', 'mentioned', 'all', 'the', 'women', 'that', 'go', 'nude', 'in', 'this', 'film', 'are', 'mostly', 'absolutely', 'gorgeous', 'the', 'plot', 'very', 'ably', 'shows', 'the', 'hypocrisy', 'of', 'the', 'female', 'libido', 'when', 'men', 'are', 'around', 'they', 'want', 'to', 'be', 'pursued', 'but', 'when', 'no', 'men', 'are', 'around', 'they', 'become', 'the', 'pursuers', 'of', 'a', '14', 'year', 'old', 'boy', 'and', 'the', 'boy', 'becomes', 'a', 'man', 'really', 'fast', 'we', 'should', 'all', 'be', 'so', 'lucky', 'at', 'this', 'age', 'he', 'then', 'gets', 'up', 'the', 'courage', 'to', 'pursue', 'his', 'true', 'love']\n",
      "1\n",
      "\n",
      "['this', 'is', 'a', 'film', 'which', 'should', 'be', 'seen', 'by', 'anybody', 'interested', 'in', 'effected', 'by', 'or', 'suffering', 'from', 'an', 'eating', 'disorder', 'it', 'is', 'an', 'amazingly', 'accurate', 'and', 'sensitive', 'portrayal', 'of', 'bulimia', 'in', 'a', 'teenage', 'girl', 'its', 'causes', 'and', 'its', 'symptoms', 'the', 'girl', 'is', 'played', 'by', 'one', 'of', 'the', 'most', 'brilliant', 'young', 'actresses', 'working', 'in', 'cinema', 'today', 'alison', 'lohman', 'who', 'was', 'later', 'so', 'spectacular', 'in', \"'where\", 'the', 'truth', \"lies'\", 'i', 'would', 'recommend', 'that', 'this', 'film', 'be', 'shown', 'in', 'all', 'schools', 'as', 'you', 'will', 'never', 'see', 'a', 'better', 'on', 'this', 'subject', 'alison', 'lohman', 'is', 'absolutely', 'outstanding', 'and', 'one', 'marvels', 'at', 'her', 'ability', 'to', 'convey', 'the', 'anguish', 'of', 'a', 'girl', 'suffering', 'from', 'this', 'compulsive', 'disorder', 'if', 'barometers', 'tell', 'us', 'the', 'air', 'pressure', 'alison', 'lohman', 'tells', 'us', 'the', 'emotional', 'pressure', 'with', 'the', 'same', 'degree', 'of', 'accuracy', 'her', 'emotional', 'range', 'is', 'so', 'precise', 'each', 'scene', 'could', 'be', 'measured', 'microscopically', 'for', 'its', 'gradations', 'of', 'trauma', 'on', 'a', 'scale', 'of', 'rising', 'hysteria', 'and', 'desperation', 'which', 'reaches', 'unbearable', 'intensity', 'mare', 'winningham', 'is', 'the', 'perfect', 'choice', 'to', 'play', 'her', 'mother', 'and', 'does', 'so', 'with', 'immense', 'sympathy', 'and', 'a', 'range', 'of', 'emotions', 'just', 'as', 'finely', 'tuned', 'as', \"lohman's\", 'together', 'they', 'make', 'a', 'pair', 'of', 'sensitive', 'emotional', 'oscillators', 'vibrating', 'in', 'resonance', 'with', 'one', 'another', 'this', 'film', 'is', 'really', 'an', 'astonishing', 'achievement', 'and', 'director', 'katt', 'shea', 'should', 'be', 'proud', 'of', 'it', 'the', 'only', 'reason', 'for', 'not', 'seeing', 'it', 'is', 'if', 'you', 'are', 'not', 'interested', 'in', 'people', 'but', 'even', 'if', 'you', 'like', 'nature', 'films', 'best', 'this', 'is', 'after', 'all', 'animal', 'behaviour', 'at', 'the', 'sharp', 'edge', 'bulimia', 'is', 'an', 'extreme', 'version', 'of', 'how', 'a', 'tormented', 'soul', 'can', 'destroy', 'her', 'own', 'body', 'in', 'a', 'frenzy', 'of', 'despair', 'and', 'if', 'we', \"don't\", 'sympathise', 'with', 'people', 'suffering', 'from', 'the', 'depths', 'of', 'despair', 'then', 'we', 'are', 'dead', 'inside']\n",
      "1\n",
      "\n",
      "['okay', 'you', 'have', 'br', 'br', 'penelope', 'keith', 'as', 'miss', 'herringbone', 'tweed', 'b', 'b', 'e', 'backbone', 'of', 'england', \"she's\", 'killed', 'off', 'in', 'the', 'first', 'scene', \"that's\", 'right', 'folks', 'this', 'show', 'has', 'no', 'backbone', 'br', 'br', 'peter', \"o'toole\", 'as', \"ol'\", 'colonel', 'cricket', 'from', 'the', 'first', 'war', 'and', 'now', 'the', 'emblazered', 'lord', 'of', 'the', 'manor', 'br', 'br', 'joanna', 'lumley', 'as', 'the', 'ensweatered', 'lady', 'of', 'the', 'manor', '20', 'years', 'younger', 'than', 'the', 'colonel', 'and', '20', 'years', 'past', 'her', 'own', 'prime', 'but', 'still', 'glamourous', 'brit', 'spelling', 'not', 'mine', 'enough', 'to', 'have', 'a', 'toy', 'boy', 'on', 'the', 'side', \"it's\", 'alright', 'they', 'have', 'col', \"cricket's\", 'full', 'knowledge', 'and', 'consent', 'they', 'guy', 'even', 'comes', \"'round\", 'for', 'christmas', 'still', \"she's\", 'considerate', 'of', 'the', 'colonel', 'enough', 'to', 'have', 'said', 'toy', 'boy', 'her', 'own', 'age', 'what', 'a', 'gal', 'br', 'br', 'david', 'mccallum', 'as', 'said', 'toy', 'boy', 'equally', 'as', 'pointlessly', 'glamourous', 'as', 'his', 'squeeze', 'pilcher', \"couldn't\", 'come', 'up', 'with', 'any', 'cover', 'for', 'him', 'within', 'the', 'story', 'so', 'she', 'gave', 'him', 'a', 'hush', 'hush', 'job', 'at', 'the', 'circus', 'br', 'br', 'and', 'finally', 'br', 'br', 'susan', 'hampshire', 'as', 'miss', 'polonia', 'teacups', 'venerable', 'headmistress', 'of', 'the', 'venerable', \"girls'\", 'boarding', 'school', 'serving', 'tea', 'in', 'her', 'office', 'with', 'a', 'dash', 'of', 'deep', 'poignant', 'advice', 'for', 'life', 'in', 'the', 'outside', 'world', 'just', 'before', 'graduation', 'her', 'best', 'bit', 'of', 'advice', \"i've\", 'only', 'been', 'to', 'nancherrow', 'the', 'local', 'stately', 'home', 'of', 'england', 'once', 'i', 'thought', 'it', 'was', 'very', 'beautiful', 'but', 'somehow', 'not', 'part', 'of', 'the', 'real', 'world', 'well', 'we', \"can't\", 'say', 'they', \"didn't\", 'warn', 'us', 'br', 'br', 'ah', 'susan', 'time', 'was', 'your', 'character', 'would', 'have', 'been', 'running', 'the', 'whole', 'show', 'they', \"don't\", 'write', \"'em\", 'like', 'that', 'any', 'more', 'our', 'loss', 'not', 'yours', 'br', 'br', 'so', 'with', 'a', 'cast', 'and', 'setting', 'like', 'this', 'you', 'have', 'the', 're', 'makings', 'of', 'brideshead', 'revisited', 'right', 'br', 'br', 'wrong', 'they', 'took', 'these', '1', 'dimensional', 'supporting', 'roles', 'because', 'they', 'paid', 'so', 'well', 'after', 'all', 'acting', 'is', 'one', 'of', 'the', 'oldest', 'temp', 'jobs', 'there', 'is', 'you', 'name', 'another', 'br', 'br', 'first', 'warning', 'sign', 'lots', 'and', 'lots', 'of', 'backlighting', 'they', 'get', 'around', 'it', 'by', 'shooting', 'outdoors', 'hey', \"it's\", 'just', 'the', 'sunlight', 'br', 'br', 'second', 'warning', 'sign', 'leading', 'lady', 'cries', 'a', 'lot', 'when', 'not', 'crying', 'her', 'eyes', 'are', 'moist', \"that's\", 'the', 'law', 'of', 'romance', 'novels', 'leading', 'lady', 'is', 'dewy', 'eyed', 'br', 'br', 'henceforth', 'leading', 'lady', 'shall', 'be', 'known', 'as', 'l', 'l', 'br', 'br', 'third', 'warning', 'sign', 'l', 'l', 'actually', 'has', 'stars', 'in', 'her', 'eyes', 'when', \"she's\", 'in', 'love', 'still', \"i'll\", 'give', 'emily', 'mortimer', 'an', 'award', 'just', 'for', 'having', 'to', 'act', 'with', 'that', 'spotlight', 'in', 'her', 'eyes', 'i', 'wonder', 'did', 'they', 'use', 'contacts', 'br', 'br', 'and', 'lastly', 'fourth', 'warning', 'sign', 'no', 'on', 'screen', 'female', 'character', 'is', 'mrs', \"she's\", 'either', 'miss', 'or', 'lady', 'br', 'br', 'when', 'all', 'was', 'said', 'and', 'done', 'i', 'still', \"couldn't\", 'tell', 'you', 'who', 'was', 'pursuing', 'whom', 'and', 'why', 'i', \"couldn't\", 'even', 'tell', 'you', 'what', 'was', 'said', 'and', 'done', 'br', 'br', 'to', 'sum', 'up', 'they', 'all', 'live', 'through', 'world', 'war', 'ii', 'without', 'anything', 'happening', 'to', 'them', 'at', 'all', 'br', 'br', 'ok', 'at', 'the', 'end', 'l', 'l', 'finds', \"she's\", 'lost', 'her', 'parents', 'to', 'the', 'japanese', 'prison', 'camps', 'and', 'baby', 'sis', 'comes', 'home', 'catatonic', 'meanwhile', \"there's\", 'always', 'a', 'meanwhile', 'some', 'young', 'guy', 'l', 'l', 'had', 'a', 'crush', 'on', 'when', 'i', \"don't\", 'know', 'comes', 'home', 'from', 'some', 'wartime', 'tough', 'spot', 'and', 'is', 'found', 'living', 'on', 'the', 'street', 'by', 'lady', 'of', 'the', 'manor', 'must', 'be', 'some', 'street', 'if', \"she's\", 'going', 'to', 'find', 'him', 'there', 'both', 'war', 'casualties', 'are', 'whisked', 'away', 'to', 'recover', 'at', 'nancherrow', 'somebody', 'has', 'to', 'be', 'whisked', 'away', 'somewhere', 'in', 'these', 'romance', 'stories', 'br', 'br', 'great', 'drama']\n",
      "0\n",
      "\n",
      "['the', 'film', 'is', 'based', 'on', 'a', 'genuine', '1950s', 'novel', 'br', 'br', 'journalist', 'colin', 'mcinnes', 'wrote', 'a', 'set', 'of', 'three', 'london', 'novels', 'absolute', 'beginners', 'city', 'of', 'spades', 'and', 'mr', 'love', 'and', 'justice', 'i', 'have', 'read', 'all', 'three', 'the', 'first', 'two', 'are', 'excellent', 'the', 'last', 'perhaps', 'an', 'experiment', 'that', 'did', 'not', 'come', 'off', 'but', \"mcinnes's\", 'work', 'is', 'highly', 'acclaimed', 'and', 'rightly', 'so', 'this', 'musical', 'is', 'the', \"novelist's\", 'ultimate', 'nightmare', 'to', 'see', 'the', 'fruits', 'of', \"one's\", 'mind', 'being', 'turned', 'into', 'a', 'glitzy', 'badly', 'acted', 'soporific', 'one', 'dimensional', 'apology', 'of', 'a', 'film', 'that', 'says', 'it', 'captures', 'the', 'spirit', 'of', '1950s', 'london', 'and', 'does', 'nothing', 'of', 'the', 'sort', 'br', 'br', 'thank', 'goodness', 'colin', 'mcinnes', \"wasn't\", 'alive', 'to', 'witness', 'it']\n",
      "0\n",
      "\n",
      "['i', 'really', 'love', 'the', 'sexy', 'action', 'and', 'sci', 'fi', 'films', 'of', 'the', 'sixties', 'and', 'its', 'because', 'of', 'the', \"actress's\", 'that', 'appeared', 'in', 'them', 'they', 'found', 'the', 'sexiest', 'women', 'to', 'be', 'in', 'these', 'films', 'and', 'it', \"didn't\", 'matter', 'if', 'they', 'could', 'act', 'remember', 'candy', 'the', 'reason', 'i', 'was', 'disappointed', 'by', 'this', 'film', 'was', 'because', 'it', \"wasn't\", 'nostalgic', 'enough', 'the', 'story', 'here', 'has', 'a', 'european', 'sci', 'fi', 'film', 'called', 'dragonfly', 'being', 'made', 'and', 'the', 'director', 'is', 'fired', 'so', 'the', 'producers', 'decide', 'to', 'let', 'a', 'young', 'aspiring', 'filmmaker', 'jeremy', 'davies', 'to', 'complete', 'the', 'picture', \"they're\", 'is', 'one', 'real', 'beautiful', 'woman', 'in', 'the', 'film', 'who', 'plays', 'dragonfly', 'but', \"she's\", 'barely', 'in', 'it', 'film', 'is', 'written', 'and', 'directed', 'by', 'roman', 'coppola', 'who', 'uses', 'some', 'of', 'his', 'fathers', 'exploits', 'from', 'his', 'early', 'days', 'and', 'puts', 'it', 'into', 'the', 'script', 'i', 'wish', 'the', 'film', 'could', 'have', 'been', 'an', 'homage', 'to', 'those', 'early', 'films', 'they', 'could', 'have', 'lots', 'of', 'cameos', 'by', 'actors', 'who', 'appeared', 'in', 'them', 'there', 'is', 'one', 'actor', 'in', 'this', 'film', 'who', 'was', 'popular', 'from', 'the', 'sixties', 'and', 'its', 'john', 'phillip', 'law', 'barbarella', 'gerard', 'depardieu', 'giancarlo', 'giannini', 'and', 'dean', 'stockwell', 'appear', 'as', 'well', 'i', 'guess', \"i'm\", 'going', 'to', 'have', 'to', 'continue', 'waiting', 'for', 'a', 'director', 'to', 'make', 'a', 'good', 'homage', 'to', 'the', 'films', 'of', 'the', 'sixties', 'if', 'any', 'are', 'reading', 'this', 'make', 'it', 'as', 'sexy', 'as', 'you', 'can', \"i'll\", 'be', 'waiting']\n",
      "0\n",
      "\n",
      "['sure', 'this', 'one', \"isn't\", 'really', 'a', 'blockbuster', 'nor', 'does', 'it', 'target', 'such', 'a', 'position', 'dieter', 'is', 'the', 'first', 'name', 'of', 'a', 'quite', 'popular', 'german', 'musician', 'who', 'is', 'either', 'loved', 'or', 'hated', 'for', 'his', 'kind', 'of', 'acting', 'and', 'thats', 'exactly', 'what', 'this', 'movie', 'is', 'about', 'it', 'is', 'based', 'on', 'the', 'autobiography', 'dieter', 'bohlen', 'wrote', 'a', 'few', 'years', 'ago', 'but', \"isn't\", 'meant', 'to', 'be', 'accurate', 'on', 'that', 'the', 'movie', 'is', 'filled', 'with', 'some', 'sexual', 'offensive', 'content', 'at', 'least', 'for', 'american', 'standard', 'which', 'is', 'either', 'amusing', 'not', 'for', 'the', 'other', 'actors', 'of', 'course', 'or', 'dumb', 'it', 'depends', 'on', 'your', 'individual', 'kind', 'of', 'humor', 'or', 'on', 'you', 'being', 'a', 'bohlen', 'fan', 'or', 'not', 'technically', 'speaking', 'there', \"isn't\", 'much', 'to', 'criticize', 'speaking', 'of', 'me', 'i', 'find', 'this', 'movie', 'to', 'be', 'an', 'ok', 'movie']\n",
      "0\n",
      "\n"
     ]
    }
   ],
   "source": [
    "# YOUR CODE HERE\n",
    "# Print the first 10 sentences of the training set, one at a time (use a for loop).\n",
    "# And their labels\n",
    "\n",
    "for i in range(10):\n",
    "    print(X_train[i])\n",
    "    print(y_train[i])\n",
    "    print()\n"
   ]
  },
  {
   "cell_type": "markdown",
   "metadata": {},
   "source": [
    "**LABELS**: the task is a binary classification problem:\n",
    "- label 0️⃣ corresponds to a <font color=red>negative</font> movie review\n",
    "- label 1️⃣ corresponds to a <font color=green>positive</font> movie review\n",
    "\n",
    "**INPUTS**: \n",
    "- 🧹 The data has been partially cleaned! So you don't have to worry about it in this exercise. \n",
    "- ❗️ But don't forget this step in real-life challenges. \n",
    "\n",
    "Remember that words are not computer-compatible materials? You have to tokenize them!\n",
    "\n",
    "❓ **Question** ❓ Run the following cell to tokenize your sentences"
   ]
  },
  {
   "cell_type": "code",
   "execution_count": 4,
   "metadata": {},
   "outputs": [],
   "source": [
    "from tensorflow.keras.preprocessing.text import Tokenizer\n",
    "\n",
    "# This initializes a Keras utilities that does all the tokenization for you\n",
    "tokenizer = Tokenizer()\n",
    "\n",
    "# The tokenization learns a dictionary that maps a token (integer) to each word\n",
    "# It can be done only on the train set - we are not supposed to know the test set!\n",
    "# This tokenization also lowercases your words, apply some filters, and so on - you can check the doc if you want\n",
    "tokenizer.fit_on_texts(X_train)\n",
    "\n",
    "# We apply the tokenization to the train and test set\n",
    "X_train_token = tokenizer.texts_to_sequences(X_train)\n",
    "X_test_token = tokenizer.texts_to_sequences(X_test)\n"
   ]
  },
  {
   "cell_type": "markdown",
   "metadata": {},
   "source": [
    "❓ **Question** ❓ Print some of the tokenized sentences to be sure you got what you expected"
   ]
  },
  {
   "cell_type": "code",
   "execution_count": 5,
   "metadata": {
    "tags": [
     "challengify"
    ]
   },
   "outputs": [
    {
     "name": "stdout",
     "output_type": "stream",
     "text": [
      "[11, 13, 33, 422, 402, 18, 91, 27, 6893, 8, 31, 1311, 4504, 39, 539, 8007, 194, 24, 75, 161, 17, 11, 228, 336, 27, 68, 252, 203, 8, 468, 58, 68, 75, 108, 98, 21, 4165, 11, 1418, 694, 695, 11, 18, 6, 33, 389, 6065, 204, 2345, 487, 1, 86, 928, 140, 69, 158, 51, 1, 16730, 8008, 69, 251, 68, 2895, 15, 16731, 1877, 12117, 12118, 1344, 4505, 3, 38, 3640, 120, 1386, 16, 4504, 13, 164, 17, 2, 928, 805, 8009, 8, 2, 18, 12, 13, 3231, 4, 99, 142, 1239, 9, 221, 696, 12, 48, 24, 97, 35, 11, 8010, 4506, 35, 1311, 16732, 49, 375, 9, 98, 1006, 753, 137, 10]\n",
      "\n",
      "[9, 25, 76, 572, 5, 730, 1945, 296, 100, 17, 11, 6, 625, 662, 5, 2, 1835, 4, 190, 555, 61, 1170, 115, 2531, 3, 2896, 20, 1, 9585, 3, 264, 40, 5424, 2, 187, 200, 20, 11, 3435, 9, 1387, 1945, 80, 1, 19, 13, 1601, 1, 103, 1056, 13, 2090, 1646, 515, 3, 319, 190, 443, 5, 531, 17, 16, 53, 1878, 4, 46, 13, 4507, 94, 39, 135, 9, 929, 9, 195, 25, 1007, 170, 4, 1, 19, 17, 9, 262, 1, 2532, 4, 10, 3, 273, 40, 443, 5, 531, 4, 96, 181, 9586, 213, 99, 142, 4508, 15, 240, 298, 9, 2897, 401, 11, 19, 30, 29]\n",
      "\n",
      "[2445, 6894, 1, 12119, 3232, 2898, 8, 2, 1008, 1602, 3, 1879, 904, 3, 1697, 8011, 184, 790, 370, 14, 32, 205, 328, 5, 74, 7, 7, 17, 222, 20, 342, 2, 16733, 1057, 1, 92, 4, 3233, 444, 12120, 5, 12121, 494, 2, 5425, 416, 2, 5425, 3, 5, 16734, 1, 1137, 494, 87, 12122, 6066, 10, 42, 20, 1, 2770, 15, 987, 4, 1, 449, 7, 7, 164, 58, 3056, 5426, 12, 590, 20, 1, 1880, 429, 4, 1, 4925, 296, 1, 16735, 2016, 3234, 390, 2445, 3, 1089, 861, 5, 25, 2648, 3233, 444, 15, 9587, 1, 1880, 2649, 15, 1, 297, 1283, 1312, 7, 7, 1880, 815, 27, 3235, 15, 2, 9588, 3057, 527, 4, 790, 9589, 16, 11, 2446, 103, 39, 5, 3236, 132, 382, 8, 4509]\n",
      "\n",
      "[11, 6, 1, 231, 4, 19, 15, 2, 6895, 2650, 2771, 51, 1, 365, 4, 1, 189, 67, 134, 1345, 16, 96, 181, 988, 14, 22, 12123, 81, 2, 208, 3237, 2772, 3, 12124, 15, 2, 346, 4, 640, 384, 370, 37, 8012, 3, 4926, 1836, 14, 205, 8013, 3436, 1, 103, 362, 48, 24, 53, 12125, 5, 1603, 53, 1946, 4166, 40, 2, 2531, 3, 2249, 16736, 137, 157, 634, 109, 30, 96, 106, 2, 216, 19, 8, 159, 281, 3, 26, 12, 989, 1, 2773, 10, 2651]\n",
      "\n",
      "[14, 423, 25, 1073, 29, 1, 464, 12, 134, 3641, 8, 11, 19, 24, 626, 422, 1555, 1, 103, 52, 6896, 295, 1, 8014, 4, 1, 601, 16737, 51, 372, 24, 185, 32, 173, 5, 27, 9590, 17, 51, 53, 372, 24, 185, 32, 417, 1, 16738, 4, 2, 2346, 310, 153, 373, 3, 1, 373, 506, 2, 122, 61, 705, 77, 136, 29, 27, 34, 1556, 30, 11, 523, 28, 87, 201, 54, 1, 3642, 5, 4927, 23, 277, 120]\n",
      "\n",
      "[11, 6, 2, 19, 59, 136, 27, 113, 31, 1557, 872, 8, 12126, 31, 39, 1744, 37, 33, 1780, 6067, 10, 6, 33, 5427, 2017, 3, 3437, 1036, 4, 12127, 8, 2, 1881, 247, 96, 2652, 3, 96, 16739, 1, 247, 6, 274, 31, 26, 4, 1, 86, 532, 176, 1171, 854, 8, 477, 591, 4510, 6897, 36, 13, 289, 34, 2447, 8, 16740, 1, 1058, 16741, 9, 60, 401, 12, 11, 19, 27, 627, 8, 29, 4928, 14, 22, 83, 112, 66, 2, 124, 20, 11, 1037, 4510, 6897, 6, 422, 1313, 3, 26, 16742, 30, 38, 1284, 5, 2347, 1, 5428, 4, 2, 247, 1744, 37, 11, 6068, 6067, 41, 16743, 395, 204, 1, 798, 4929, 4510, 6897, 791, 204, 1, 805, 4929, 16, 1, 168, 2899, 4, 4167, 38, 805, 2018, 6, 34, 4930, 263, 133, 98, 27, 8015, 16744, 15, 96, 16745, 4, 6898, 20, 2, 1947, 4, 3438, 6899, 3, 3058, 59, 4511, 3439, 2653, 12128, 16746, 6, 1, 349, 1038, 5, 308, 38, 413, 3, 129, 34, 16, 12129, 2348, 3, 2, 2018, 4, 1346, 40, 14, 5429, 6900, 14, 16747, 299, 32, 95, 2, 2533, 4, 3437, 805, 16748, 16749, 8, 9591, 16, 26, 166, 11, 19, 6, 61, 33, 4931, 3238, 3, 160, 16750, 16751, 136, 27, 1781, 4, 10, 1, 62, 282, 15, 21, 320, 10, 6, 41, 22, 24, 21, 872, 8, 92, 17, 58, 41, 22, 35, 799, 100, 106, 11, 6, 104, 29, 1263, 3883, 30, 1, 2250, 1388, 12127, 6, 33, 1347, 313, 4, 84, 2, 4168, 1192, 67, 1782, 38, 181, 635, 8, 2, 8016, 4, 3239, 3, 41, 77, 91, 8017, 16, 92, 1744, 37, 1, 6069, 4, 3239, 87, 77, 24, 351, 1240]\n",
      "\n",
      "[1018, 22, 25, 7, 7, 9592, 4512, 14, 654, 16752, 12130, 533, 533, 1019, 6901, 4, 2168, 480, 580, 125, 8, 1, 78, 133, 188, 209, 1348, 11, 123, 45, 53, 6901, 7, 7, 731, 12131, 14, 6070, 2349, 12132, 37, 1, 78, 325, 3, 144, 1, 16753, 1745, 4, 1, 8018, 7, 7, 8019, 12133, 14, 1, 16754, 592, 4, 1, 8018, 953, 162, 1123, 71, 1, 2349, 3, 953, 162, 524, 38, 181, 2251, 17, 128, 12134, 5430, 5431, 21, 2350, 191, 5, 25, 2, 3059, 373, 20, 1, 429, 44, 2448, 32, 25, 9593, 16755, 385, 1604, 3, 6902, 32, 235, 58, 270, 16756, 15, 780, 128, 480, 12135, 4, 1, 2349, 191, 5, 25, 307, 3059, 373, 38, 181, 523, 46, 2, 4513, 7, 7, 568, 16757, 14, 307, 3059, 373, 1241, 14, 12136, 12134, 14, 23, 9594, 16758, 354, 222, 54, 16, 99, 1264, 15, 89, 806, 1, 64, 34, 55, 561, 89, 2, 4514, 4514, 292, 30, 1, 4169, 7, 7, 3, 376, 7, 7, 2252, 16759, 14, 654, 16760, 16761, 12137, 16762, 4, 1, 12137, 8020, 6071, 399, 4170, 2654, 8, 38, 1090, 16, 2, 8021, 4, 1074, 3240, 1882, 15, 109, 8, 1, 1059, 189, 40, 149, 8022, 38, 106, 179, 4, 1882, 214, 62, 76, 5, 12138, 1, 663, 12139, 314, 4, 2168, 294, 9, 177, 10, 13, 52, 326, 17, 754, 21, 170, 4, 1, 142, 189, 70, 77, 183, 130, 32, 150, 2449, 204, 7, 7, 4515, 2252, 57, 13, 132, 110, 60, 25, 76, 636, 1, 218, 123, 32, 91, 967, 3643, 35, 12, 99, 50, 306, 1883, 21, 6072, 7, 7, 34, 16, 2, 182, 3, 862, 35, 11, 22, 25, 1, 800, 9595, 4, 12140, 12141, 209, 7, 7, 363, 32, 581, 119, 290, 2253, 706, 612, 80, 32, 1242, 34, 70, 104, 29, 108, 6, 26, 4, 1, 3884, 12142, 2774, 48, 6, 22, 375, 166, 7, 7, 78, 1349, 1419, 732, 3, 732, 4, 16763, 32, 73, 185, 10, 31, 1091, 12143, 1243, 44, 40, 1, 8023, 7, 7, 293, 1349, 1419, 839, 592, 3644, 2, 187, 51, 21, 2534, 38, 498, 24, 12144, 188, 1, 1137, 4, 954, 2351, 839, 592, 6, 12145, 2655, 7, 7, 9596, 839, 592, 3440, 27, 572, 14, 1783, 1783, 7, 7, 773, 1349, 1419, 1783, 1783, 165, 45, 391, 8, 38, 498, 51, 480, 8, 120, 128, 573, 184, 3241, 12146, 33, 1605, 40, 15, 264, 5, 469, 16, 12, 12147, 8, 38, 498, 9, 574, 116, 32, 418, 6073, 7, 7, 3, 9597, 3441, 1349, 1419, 53, 20, 256, 601, 110, 6, 1698, 480, 339, 654, 39, 592, 7, 7, 51, 29, 13, 307, 3, 196, 9, 128, 354, 395, 22, 36, 13, 8024, 781, 3, 135, 9, 354, 58, 395, 22, 46, 13, 307, 3, 196, 7, 7, 5, 2656, 54, 32, 29, 437, 137, 189, 325, 1520, 213, 240, 1209, 5, 94, 30, 29, 7, 7, 543, 30, 1, 121, 1783, 1783, 714, 480, 441, 38, 822, 5, 1, 715, 1210, 9598, 3, 792, 16764, 270, 314, 16765, 1746, 224, 205, 2, 1746, 47, 176, 235, 1783, 1783, 63, 2, 3645, 20, 51, 9, 91, 127, 270, 314, 37, 47, 6903, 1211, 1699, 3, 6, 260, 761, 20, 1, 762, 31, 592, 4, 1, 8018, 228, 27, 47, 762, 41, 480, 163, 5, 148, 89, 48, 194, 325, 12148, 24, 8025, 232, 5, 6904, 30, 12138, 1389, 45, 5, 27, 8025, 232, 1314, 8, 119, 954, 664, 7, 7, 75, 396]\n",
      "\n",
      "[1, 19, 6, 405, 20, 2, 1606, 4516, 613, 7, 7, 2535, 6074, 12149, 840, 2, 265, 4, 246, 1092, 2351, 1265, 12150, 444, 4, 9599, 3, 390, 120, 3, 1390, 9, 25, 311, 29, 246, 1, 78, 105, 24, 335, 1, 242, 366, 33, 2091, 12, 116, 21, 222, 125, 17, 16766, 169, 6, 500, 6075, 3, 8026, 34, 11, 617, 6, 1, 12151, 1784, 1647, 5, 66, 1, 12152, 4, 1648, 334, 115, 582, 81, 2, 12153, 915, 1009, 16767, 26, 2253, 12154, 4, 2, 19, 12, 516, 10, 2657, 1, 1113, 4, 4516, 1092, 3, 129, 164, 4, 1, 406, 7, 7, 1391, 3442, 6074, 12149, 275, 1350, 5, 2536, 10]\n",
      "\n",
      "[9, 61, 120, 1, 1315, 226, 3, 930, 931, 100, 4, 1, 3443, 3, 96, 80, 4, 1, 16768, 12, 1344, 8, 94, 32, 260, 1, 9600, 464, 5, 27, 8, 119, 100, 3, 10, 150, 535, 41, 32, 98, 469, 453, 2019, 1, 282, 9, 13, 696, 31, 11, 19, 13, 80, 10, 275, 3060, 191, 1, 64, 139, 45, 2, 1484, 930, 931, 19, 425, 9601, 115, 90, 3, 1, 160, 6, 4517, 34, 1, 1266, 990, 5, 392, 2, 176, 6076, 1448, 4932, 3646, 5, 697, 1, 450, 430, 6, 26, 142, 326, 255, 8, 1, 19, 36, 303, 9601, 17, 480, 1006, 8, 10, 19, 6, 398, 3, 545, 31, 6077, 9602, 36, 1075, 47, 4, 23, 4518, 8027, 37, 23, 389, 431, 3, 1316, 10, 81, 1, 227, 9, 583, 1, 19, 98, 25, 76, 33, 4519, 5, 158, 389, 100, 32, 98, 25, 732, 4, 2537, 31, 161, 36, 1344, 8, 94, 48, 6, 26, 243, 8, 11, 19, 36, 13, 1039, 37, 1, 3443, 3, 96, 337, 6078, 1137, 12155, 6905, 9603, 9604, 12156, 3, 3242, 12157, 861, 14, 70, 9, 528, 146, 163, 5, 25, 5, 1485, 905, 15, 2, 160, 5, 95, 2, 49, 4519, 5, 1, 100, 4, 1, 3443, 41, 99, 24, 1040, 11, 95, 10, 14, 1315, 14, 22, 67, 573, 27, 905]\n",
      "\n",
      "[244, 11, 26, 215, 61, 2, 2900, 716, 129, 10, 2092, 138, 2, 2538, 12158, 6, 1, 78, 375, 4, 2, 174, 1039, 1076, 4933, 36, 6, 339, 419, 39, 1884, 15, 23, 231, 4, 108, 3, 1948, 733, 46, 11, 18, 6, 43, 10, 6, 405, 20, 1, 8028, 12158, 12159, 840, 2, 175, 162, 598, 17, 215, 884, 5, 27, 2017, 20, 12, 1, 18, 6, 1392, 16, 47, 991, 2254, 1649, 30, 223, 15, 297, 1226, 59, 6, 339, 1020, 21, 15, 1, 82, 161, 4, 261, 39, 992, 10, 4520, 20, 132, 2169, 231, 4, 495, 39, 20, 22, 115, 2, 12159, 304, 39, 21, 2352, 1449, 48, 215, 72, 5, 5432, 1449, 4, 65, 9, 148, 11, 18, 5, 27, 33, 543, 18]\n",
      "\n"
     ]
    }
   ],
   "source": [
    "# YOUR CODE HERE\n",
    "# Print some of the tokenized sentences of the training set, one at a time (use a for loop).\n",
    "\n",
    "for i in range(10):\n",
    "    print(X_train_token[i])\n",
    "    print()\n"
   ]
  },
  {
   "cell_type": "markdown",
   "metadata": {},
   "source": [
    "The dictionary that maps each word to a token can be accessed with `tokenizer.word_index`\n",
    "    \n",
    "❓ **Question** ❓ Add a `vocab_size` variable that stores the number of different words (=tokens) in the train set. This is called the _size of the vocabulary_."
   ]
  },
  {
   "cell_type": "code",
   "execution_count": 6,
   "metadata": {
    "tags": [
     "challengify"
    ]
   },
   "outputs": [
    {
     "name": "stdout",
     "output_type": "stream",
     "text": [
      "30420\n"
     ]
    }
   ],
   "source": [
    "# YOUR CODE HERE\n",
    "# Add a vocab_size variable that contains the size of the vocabulary (the number of unique words in the train set)\n",
    "\n",
    "vocab_size = len(tokenizer.word_index) + 1\n",
    "\n",
    "print(vocab_size)\n"
   ]
  },
  {
   "cell_type": "markdown",
   "metadata": {},
   "source": [
    "Your `X_train_token` and `X_test_token` contain sequences of different lengths.\n",
    "\n",
    "<img src=\"padding.png\" alt='Word2Vec' width=\"700px\" />\n",
    "\n",
    "However, a neural network has to have a tensor as input. For this reason, you have to pad your data.\n",
    "\n",
    "❓ **Question** ❓  Pad your data with the `pad_sequences` function (documentation [here](https://www.tensorflow.org/api_docs/python/tf/keras/preprocessing/sequence/pad_sequences)). Do not forget about the `dtype` and `padding` keywords (but do not use `maxlen` here)."
   ]
  },
  {
   "cell_type": "code",
   "execution_count": 7,
   "metadata": {
    "tags": [
     "challengify"
    ]
   },
   "outputs": [
    {
     "name": "stdout",
     "output_type": "stream",
     "text": [
      "[11, 13, 33, 422, 402, 18, 91, 27, 6893, 8, 31, 1311, 4504, 39, 539, 8007, 194, 24, 75, 161, 17, 11, 228, 336, 27, 68, 252, 203, 8, 468, 58, 68, 75, 108, 98, 21, 4165, 11, 1418, 694, 695, 11, 18, 6, 33, 389, 6065, 204, 2345, 487, 1, 86, 928, 140, 69, 158, 51, 1, 16730, 8008, 69, 251, 68, 2895, 15, 16731, 1877, 12117, 12118, 1344, 4505, 3, 38, 3640, 120, 1386, 16, 4504, 13, 164, 17, 2, 928, 805, 8009, 8, 2, 18, 12, 13, 3231, 4, 99, 142, 1239, 9, 221, 696, 12, 48, 24, 97, 35, 11, 8010, 4506, 35, 1311, 16732, 49, 375, 9, 98, 1006, 753, 137, 10]\n",
      "[  0.   0.   0. ... 753. 137.  10.]\n"
     ]
    }
   ],
   "source": [
    "# YOUR CODE HERE\n",
    "# Pad the train and test set to have the same length (use the pad_sequences function from Keras)\n",
    "\n",
    "from tensorflow.keras.preprocessing.sequence import pad_sequences\n",
    "\n",
    "X_pad = pad_sequences(X_train_token, dtype='float32', padding='pre')\n",
    "\n",
    "# Print the first sentence of the train set, before and after padding\n",
    "\n",
    "print(X_train_token[0])\n",
    "print(X_pad[0])\n"
   ]
  },
  {
   "cell_type": "markdown",
   "metadata": {},
   "source": [
    "# The RNN"
   ]
  },
  {
   "cell_type": "markdown",
   "metadata": {},
   "source": [
    "Let's now feed this data to a Recurrent Neural Network.\n",
    "\n",
    "❓ **Question** ❓ Write a model that has:\n",
    "- an embedding layer whose `input_dim` is the size of your vocabulary (= your `vocab_size`), and whose `output_dim` is the size of the embedding space you want to have\n",
    "- a RNN (SimpleRNN, LSTM, GRU) layer\n",
    "- a Dense layer\n",
    "- an output layer\n",
    "\n",
    "⚠️ **Warning** ⚠️ Here, you don't need a masking layer. Why? Because `layers.Embedding` has a argument to do that directly, which you have to set with `mask_zero=True`. That also means that your data **HAS TO** be padded with **0** (which is the default behavior). See the [documentation](https://www.tensorflow.org/api_docs/python/tf/keras/layers/Embedding#example_2) to understand how it **impacts** the `input_dim`.\n",
    "\n",
    "<details>\n",
    "    <summary>💡 Hint</summary>\n",
    "\n",
    "`input_dim` should equal size of vocabulary + 1\n",
    "\n",
    "</details>\n",
    "\n",
    "Compile it with the appropriate arguments"
   ]
  },
  {
   "cell_type": "code",
   "execution_count": 8,
   "metadata": {
    "tags": [
     "challengify"
    ]
   },
   "outputs": [],
   "source": [
    "# YOUR CODE HERE\n",
    "# Create a model with\n",
    "# an Embedding layer whose input_dim is the vocab_size variable,\n",
    "# and whose output_dim is the embedding_size variable\n",
    "# a RNN layer (SimpleRNN or LSTM or GRU) with 32 units\n",
    "# a Dense layer and\n",
    "# a final sigmoid layer\n",
    "\n",
    "from tensorflow.keras.models import Sequential\n",
    "\n",
    "from tensorflow.keras.layers import Embedding, SimpleRNN, Dense\n",
    "\n",
    "embedding_size = 32\n",
    "\n",
    "model = Sequential()\n",
    "\n",
    "model.add(Embedding(input_dim=vocab_size, output_dim=embedding_size))\n",
    "\n",
    "model.add(SimpleRNN(units=32))\n",
    "\n",
    "model.add(Dense(units=16, activation='relu'))\n",
    "\n",
    "model.add(Dense(units=1, activation='sigmoid'))\n"
   ]
  },
  {
   "cell_type": "markdown",
   "metadata": {},
   "source": [
    "❓ **Question** ❓ Look at the number of parameters in your RNN. "
   ]
  },
  {
   "cell_type": "code",
   "execution_count": 9,
   "metadata": {
    "tags": [
     "challengify"
    ]
   },
   "outputs": [
    {
     "name": "stdout",
     "output_type": "stream",
     "text": [
      "Model: \"sequential\"\n",
      "_________________________________________________________________\n",
      " Layer (type)                Output Shape              Param #   \n",
      "=================================================================\n",
      " embedding (Embedding)       (None, None, 32)          973440    \n",
      "                                                                 \n",
      " simple_rnn (SimpleRNN)      (None, 32)                2080      \n",
      "                                                                 \n",
      " dense (Dense)               (None, 16)                528       \n",
      "                                                                 \n",
      " dense_1 (Dense)             (None, 1)                 17        \n",
      "                                                                 \n",
      "=================================================================\n",
      "Total params: 976065 (3.72 MB)\n",
      "Trainable params: 976065 (3.72 MB)\n",
      "Non-trainable params: 0 (0.00 Byte)\n",
      "_________________________________________________________________\n"
     ]
    }
   ],
   "source": [
    "# YOUR CODE HERE\n",
    "model.summary()\n"
   ]
  },
  {
   "cell_type": "markdown",
   "metadata": {},
   "source": [
    "❓ Double-check that the number of parameters in your embedding layer is equal to the (number of words in your vocabulary + 1 for the masking value) $\\times$  the dimension of your embedding."
   ]
  },
  {
   "cell_type": "code",
   "execution_count": 10,
   "metadata": {
    "tags": [
     "challengify"
    ]
   },
   "outputs": [
    {
     "data": {
      "text/plain": [
       "'The number of parameters of the Embedding layer is vocab_size * embedding_size.\\n\\nThe Embedding layer is a lookup table that maps each word to a vector of size embedding_size.\\n'"
      ]
     },
     "execution_count": 10,
     "metadata": {},
     "output_type": "execute_result"
    }
   ],
   "source": [
    "# YOUR CODE HERE\n",
    "# What is the number of parameters of the Embedding layer?\n",
    "\n",
    "\"\"\"The number of parameters of the Embedding layer is vocab_size * embedding_size.\n",
    "\n",
    "The Embedding layer is a lookup table that maps each word to a vector of size embedding_size.\n",
    "\"\"\"\n"
   ]
  },
  {
   "cell_type": "markdown",
   "metadata": {},
   "source": [
    "❓ **Question** ❓ Start fitting your model with 20 epochs, with an early stopping criterion whose patience is equal to 4.\n",
    "\n",
    "⚠️ **Warning** ⚠️ You might see that it takes a lot of time! \n",
    "\n",
    "**So stop it after a couple of iterations!**"
   ]
  },
  {
   "cell_type": "code",
   "execution_count": 11,
   "metadata": {
    "tags": [
     "challengify"
    ]
   },
   "outputs": [
    {
     "name": "stdout",
     "output_type": "stream",
     "text": [
      "Epoch 1/20\n",
      "63/63 [==============================] - 12s 177ms/step - loss: 0.6947 - accuracy: 0.5105 - val_loss: 0.6953 - val_accuracy: 0.4860\n",
      "Epoch 2/20\n",
      "63/63 [==============================] - 11s 174ms/step - loss: 0.6362 - accuracy: 0.7560 - val_loss: 0.6776 - val_accuracy: 0.5500\n",
      "Epoch 3/20\n",
      "63/63 [==============================] - 11s 176ms/step - loss: 0.3471 - accuracy: 0.9370 - val_loss: 0.6067 - val_accuracy: 0.6600\n",
      "Epoch 4/20\n",
      "63/63 [==============================] - 11s 176ms/step - loss: 0.0525 - accuracy: 0.9960 - val_loss: 0.8034 - val_accuracy: 0.6080\n",
      "Epoch 5/20\n",
      "63/63 [==============================] - 11s 175ms/step - loss: 0.0093 - accuracy: 1.0000 - val_loss: 0.8414 - val_accuracy: 0.6380\n",
      "Epoch 6/20\n",
      "63/63 [==============================] - 11s 179ms/step - loss: 0.0043 - accuracy: 1.0000 - val_loss: 0.9396 - val_accuracy: 0.6360\n",
      "Epoch 7/20\n",
      "63/63 [==============================] - 11s 172ms/step - loss: 0.0026 - accuracy: 1.0000 - val_loss: 1.0178 - val_accuracy: 0.6280\n"
     ]
    },
    {
     "data": {
      "text/plain": [
       "<keras.src.callbacks.History at 0x17b95ed40>"
      ]
     },
     "execution_count": 11,
     "metadata": {},
     "output_type": "execute_result"
    }
   ],
   "source": [
    "# YOUR CODE HERE\n",
    "# Fit the model with 20 epochs with early stopping and patience of 4\n",
    "\n",
    "from tensorflow.keras.callbacks import EarlyStopping\n",
    "\n",
    "model.compile(optimizer=\"adam\", loss=\"binary_crossentropy\",\n",
    "              metrics=[\"accuracy\"])\n",
    "\n",
    "early_stopping = EarlyStopping(patience=4)\n",
    "\n",
    "model.fit(X_pad, y_train, epochs=20, validation_split=0.2,\n",
    "          callbacks=[early_stopping])\n"
   ]
  },
  {
   "cell_type": "markdown",
   "metadata": {},
   "source": [
    "Let's not waste too much time just staring at our screen or having coffees. It is too early to start having breaks ;)\n",
    "\n",
    "❓ **Question** ❓ We will reduce the computational time. To start, let's first look at how many words there are in the different sentences of your train set (Just run the following cell)."
   ]
  },
  {
   "cell_type": "code",
   "execution_count": 12,
   "metadata": {},
   "outputs": [
    {
     "data": {
      "image/png": "[encoded data removed]",
      "text/plain": [
       "<Figure size 640x480 with 1 Axes>"
      ]
     },
     "metadata": {},
     "output_type": "display_data"
    }
   ],
   "source": [
    "import matplotlib.pyplot as plt\n",
    "%matplotlib inline\n",
    "\n",
    "def plot_hist(X):\n",
    "    len_ = [len(_) for _ in X]\n",
    "    plt.hist(len_)\n",
    "    plt.title('Histogram of the number of sentences that have a given number of words')\n",
    "    plt.show()\n",
    "\n",
    "plot_hist(X_train)\n"
   ]
  },
  {
   "cell_type": "markdown",
   "metadata": {},
   "source": [
    "You will probably see that 90 to 95% of your sentences have less than 300 words. And very few have more than 1000.\n",
    "\n",
    "However, as you didn't use `maxlen` in your padding above, your input tensor has a dimension equal to the length of the sentence that has the maximum number of words.\n",
    "\n",
    "Now, let's look at how this affects the padding: \n",
    "\n",
    "\n",
    "<img src=\"tensor_size.png\" alt='Word2Vec' width=\"700px\" />\n",
    "\n",
    "Because of a few of very long sentences, one dimension of your tensor is equal to around 1000. However, most of the sentences with ~200 words have just padded values that are useless.\n",
    "\n",
    "So your tensor is mostly useless information, which still adds time to the training process.\n",
    "\n",
    "But what if you pad the data to a maximum length (`maxlen`) of say 200 (words)?\n",
    "- First, that would increase the convergence and you would not need to stare at your screen while waiting for the algorithm to converge\n",
    "- But in essence, do you really lose that much information? Do you think that you often need more than 200 words (up to 1000) to tell whether or not a sentence is positive of negative?\n",
    "\n",
    "❓ **Question** ❓ For all these reasons, re-do your padding using the `maxlen` keyword and retrain the model!  See how much faster it is now - without hurting the performance ;)"
   ]
  },
  {
   "cell_type": "code",
   "execution_count": 13,
   "metadata": {
    "tags": [
     "challengify"
    ]
   },
   "outputs": [
    {
     "name": "stdout",
     "output_type": "stream",
     "text": [
      "Epoch 1/20\n",
      "63/63 [==============================] - 3s 36ms/step - loss: 0.6982 - accuracy: 0.4775 - val_loss: 0.6898 - val_accuracy: 0.5300\n",
      "Epoch 2/20\n",
      "63/63 [==============================] - 2s 29ms/step - loss: 0.6339 - accuracy: 0.6795 - val_loss: 0.6813 - val_accuracy: 0.5740\n",
      "Epoch 3/20\n",
      "63/63 [==============================] - 2s 35ms/step - loss: 0.3563 - accuracy: 0.8835 - val_loss: 0.7241 - val_accuracy: 0.5780\n",
      "Epoch 4/20\n",
      "63/63 [==============================] - 2s 32ms/step - loss: 0.0602 - accuracy: 0.9950 - val_loss: 0.9792 - val_accuracy: 0.5720\n",
      "Epoch 5/20\n",
      "63/63 [==============================] - 2s 29ms/step - loss: 0.0095 - accuracy: 1.0000 - val_loss: 1.0990 - val_accuracy: 0.5800\n",
      "Epoch 6/20\n",
      "63/63 [==============================] - 2s 32ms/step - loss: 0.0041 - accuracy: 1.0000 - val_loss: 1.1970 - val_accuracy: 0.5840\n"
     ]
    },
    {
     "data": {
      "text/plain": [
       "<keras.src.callbacks.History at 0x181c9db40>"
      ]
     },
     "execution_count": 13,
     "metadata": {},
     "output_type": "execute_result"
    }
   ],
   "source": [
    "# YOUR CODE HERE\n",
    "# Re-train the model with maxlen = 200\n",
    "\n",
    "maxlen = 200\n",
    "\n",
    "X_pad = pad_sequences(X_train_token, dtype=\"float32\",\n",
    "                      padding=\"pre\", maxlen=maxlen)\n",
    "\n",
    "model = Sequential()\n",
    "\n",
    "model.add(Embedding(input_dim=vocab_size,\n",
    "                    output_dim=embedding_size))\n",
    "\n",
    "model.add(SimpleRNN(units=32))\n",
    "\n",
    "model.add(Dense(units=16, activation=\"relu\"))\n",
    "\n",
    "model.add(Dense(units=1, activation=\"sigmoid\"))\n",
    "\n",
    "model.compile(optimizer=\"adam\", loss=\"binary_crossentropy\", metrics=[\"accuracy\"])\n",
    "\n",
    "early_stopping = EarlyStopping(patience=4)\n",
    "\n",
    "model.fit(X_pad, y_train, epochs=20, validation_split=0.2, callbacks=[early_stopping])\n"
   ]
  },
  {
   "cell_type": "markdown",
   "metadata": {},
   "source": [
    "🏁 Nice, you are now able to use `Tokenizer` and `pad_sequences`\n",
    "\n",
    "💾 Don't forget to git add/commit/push your notebook...\n",
    "\n",
    "🚀 ... and move on to the next challenge!"
   ]
  }
 ],
 "metadata": {
  "kernelspec": {
   "display_name": "Python 3",
   "language": "python",
   "name": "python3"
  },
  "language_info": {
   "codemirror_mode": {
    "name": "ipython",
    "version": 3
   },
   "file_extension": ".py",
   "mimetype": "text/x-python",
   "name": "python",
   "nbconvert_exporter": "python",
   "pygments_lexer": "ipython3",
   "version": "3.10.6"
  }
 },
 "nbformat": 4,
 "nbformat_minor": 4
}
